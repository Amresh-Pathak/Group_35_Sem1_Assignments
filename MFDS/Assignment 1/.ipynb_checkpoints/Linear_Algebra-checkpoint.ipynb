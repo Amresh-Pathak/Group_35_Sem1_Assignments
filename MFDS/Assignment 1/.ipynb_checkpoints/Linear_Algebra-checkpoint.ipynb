{
 "cells": [
  {
   "cell_type": "markdown",
   "id": "fb4c950d-f504-45fb-93f9-65e089121c2d",
   "metadata": {},
   "source": [
    "# Q1. Gauss Seidel and Gauss Jacobi"
   ]
  },
  {
   "cell_type": "markdown",
   "id": "aed38090-6442-408e-b863-280215771389",
   "metadata": {},
   "source": [
    "### i. Write a function to check whether a given square matrix is diagonally dominant. \n",
    "__Test the function on a randomly generated 4 × 4 matrix.__"
   ]
  },
  {
   "cell_type": "code",
   "execution_count": 2,
   "id": "ad64c835-2965-4ad5-bce0-8a3e415dae62",
   "metadata": {},
   "outputs": [],
   "source": [
    "import numpy as np\n",
    "\n",
    "def matrix_generator() -> int :\n",
    "    return np.random.randint(10, size=(4, 4))"
   ]
  },
  {
   "cell_type": "code",
   "execution_count": 3,
   "id": "8a4800fb-e20e-46f5-bec3-3ec84892d768",
   "metadata": {},
   "outputs": [],
   "source": [
    "def isDiagonallyDominant(matrix):\n",
    "    # Getting the length of the square matrix\n",
    "    _len = len(matrix)\n",
    "    \n",
    "    # Iterating from 0 to length\n",
    "    for i in range(_len):\n",
    "        \n",
    "        # Diagonal element is always in format of:\n",
    "        # (0,0), (1,1), (2,2), ... (_len-1, _len-1)\n",
    "        dia = matrix[i][i]\n",
    "        \n",
    "        # if the diagonal element, is less than,\n",
    "        # sum of set of elements in the row except the diagonal element\n",
    "        if dia < sum(set(matrix[i]) - set([dia])):\n",
    "            \n",
    "            # Represents not diagonally dominant\n",
    "            return False\n",
    "        \n",
    "    # Represents diagonally dominant\n",
    "    return True"
   ]
  },
  {
   "cell_type": "code",
   "execution_count": 110,
   "id": "394b5924-555b-4beb-b96c-ec78eca024d5",
   "metadata": {},
   "outputs": [
    {
     "name": "stdout",
     "output_type": "stream",
     "text": [
      "[[3 5 6 5]\n",
      " [9 1 2 0]\n",
      " [7 2 7 5]\n",
      " [2 1 9 9]]\n"
     ]
    },
    {
     "data": {
      "text/plain": [
       "False"
      ]
     },
     "execution_count": 110,
     "metadata": {},
     "output_type": "execute_result"
    }
   ],
   "source": [
    "mat = matrix_generator()\n",
    "print(mat)\n",
    "isDiagonallyDominant(mat)"
   ]
  },
  {
   "cell_type": "markdown",
   "id": "0318cf2b-8905-481e-9006-d538a3dbf859",
   "metadata": {},
   "source": [
    "### ii. Write a function to generate Gauss Seidel Iteration for a given square matrix.  \n",
    "__The function should also return the values of 1, ∞ and Frobenius\n",
    "norms of iteration matrix. Generate a random 4 ×4 matrix. Report\n",
    "the Iteration matrix and its norm values returned by the function along\n",
    "with the input matrix.__ "
   ]
  },
  {
   "cell_type": "code",
   "execution_count": 41,
   "id": "9108ba8b-46c7-4658-843b-c6d10cfc18da",
   "metadata": {},
   "outputs": [
    {
     "name": "stdout",
     "output_type": "stream",
     "text": [
      "[[7 5 8 9]\n",
      " [2 2 5 3]\n",
      " [4 9 0 6]\n",
      " [5 2 4 3]]\n",
      "inf-norm: 29\n",
      "1-norm: 21\n"
     ]
    }
   ],
   "source": [
    "# def calculate_norms(matrix):\n",
    "#     # rows = matrix[0-m]\n",
    "#     norm_1 = max([sum(i) for i in matrix])\n",
    "matrix = matrix_generator()\n",
    "print(matrix)\n",
    "print(f'inf-norm: {max([sum(i) for i in matrix])}')\n",
    "\n",
    "sums = [[]] * len(matrix[0])\n",
    "for i in range(len(matrix[0])):\n",
    "    temp = []\n",
    "    for j in range(len(matrix)):\n",
    "        temp.append(matrix[j][i])\n",
    "    cols[i] = sum(temp)\n",
    "print(f'1-norm: {max(cols)}')"
   ]
  },
  {
   "cell_type": "code",
   "execution_count": null,
   "id": "95c98dfd-a14b-4634-80e9-6e9f4985b109",
   "metadata": {},
   "outputs": [],
   "source": []
  },
  {
   "cell_type": "code",
   "execution_count": null,
   "id": "03854aa1-7513-45b2-91e1-46337507b653",
   "metadata": {},
   "outputs": [],
   "source": []
  }
 ],
 "metadata": {
  "kernelspec": {
   "display_name": "Python 3 (ipykernel)",
   "language": "python",
   "name": "python3"
  },
  "language_info": {
   "codemirror_mode": {
    "name": "ipython",
    "version": 3
   },
   "file_extension": ".py",
   "mimetype": "text/x-python",
   "name": "python",
   "nbconvert_exporter": "python",
   "pygments_lexer": "ipython3",
   "version": "3.9.7"
  }
 },
 "nbformat": 4,
 "nbformat_minor": 5
}
