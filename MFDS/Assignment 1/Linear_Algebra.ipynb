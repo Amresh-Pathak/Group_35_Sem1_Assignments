{
 "cells": [
  {
   "cell_type": "markdown",
   "id": "fb4c950d-f504-45fb-93f9-65e089121c2d",
   "metadata": {},
   "source": [
    "# Q1. Gauss Seidel and Gauss Jacobi"
   ]
  },
  {
   "cell_type": "markdown",
   "id": "aed38090-6442-408e-b863-280215771389",
   "metadata": {},
   "source": [
    "### i. Write a function to check whether a given square matrix is diagonally dominant. \n",
    "__Test the function on a randomly generated 4 × 4 matrix.__"
   ]
  },
  {
   "cell_type": "code",
   "execution_count": 33,
   "id": "ad64c835-2965-4ad5-bce0-8a3e415dae62",
   "metadata": {},
   "outputs": [],
   "source": [
    "import numpy as np\n",
    "\n",
    "def matrix_generator() -> int :\n",
    "    return np.random.randint(-20, 20,size=(4, 4))"
   ]
  },
  {
   "cell_type": "code",
   "execution_count": 72,
   "id": "8a4800fb-e20e-46f5-bec3-3ec84892d768",
   "metadata": {},
   "outputs": [],
   "source": [
    "def isDiagonallyDominant(matrix):\n",
    "    # Getting the length of the square matrix\n",
    "    _len = len(matrix)\n",
    "    \n",
    "    # Making values in the matrix absolute\n",
    "    matrix = np.absolute(matrix)\n",
    "    \n",
    "    # Iterating from 0 to length\n",
    "    for i in range(_len):\n",
    "        \n",
    "        # Diagonal element is always in format of:\n",
    "        # (0,0), (1,1), (2,2), ... (_len-1, _len-1)\n",
    "        dia = matrix[i][i]\n",
    "        \n",
    "        # if the diagonal element, is less than,\n",
    "        # sum of set of elements in the row except the diagonal element\n",
    "        if dia < sum(set(matrix[i]) - set([dia])):\n",
    "            print(sum(set(matrix[i]) - set([dia])) , '----', dia)\n",
    "            # Represents not diagonally dominant\n",
    "            return False\n",
    "        \n",
    "    # Represents diagonally dominant\n",
    "    return True"
   ]
  },
  {
   "cell_type": "code",
   "execution_count": 73,
   "id": "394b5924-555b-4beb-b96c-ec78eca024d5",
   "metadata": {},
   "outputs": [
    {
     "name": "stdout",
     "output_type": "stream",
     "text": [
      "[[  3 -10 -19   6]\n",
      " [ -4  14  -3   2]\n",
      " [  3 -17  15 -11]\n",
      " [ 12  14 -16  -2]]\n",
      "35 ---- 3\n"
     ]
    },
    {
     "data": {
      "text/plain": [
       "False"
      ]
     },
     "execution_count": 73,
     "metadata": {},
     "output_type": "execute_result"
    }
   ],
   "source": [
    "mat = matrix_generator()\n",
    "print(mat)\n",
    "isDiagonallyDominant(mat)"
   ]
  },
  {
   "cell_type": "markdown",
   "id": "0318cf2b-8905-481e-9006-d538a3dbf859",
   "metadata": {},
   "source": [
    "### ii. Write a function to generate Gauss Seidel Iteration for a given square matrix.  \n",
    "__The function should also return the values of 1, ∞ and Frobenius\n",
    "norms of iteration matrix. Generate a random 4 ×4 matrix. Report\n",
    "the Iteration matrix and its norm values returned by the function along\n",
    "with the input matrix.__ "
   ]
  },
  {
   "cell_type": "code",
   "execution_count": 76,
   "id": "9108ba8b-46c7-4658-843b-c6d10cfc18da",
   "metadata": {},
   "outputs": [
    {
     "name": "stdout",
     "output_type": "stream",
     "text": [
      "[[-19  18   0   0]\n",
      " [ 19  -3  -2  17]\n",
      " [-10 -12   8   4]\n",
      " [ 19 -17  -4  14]]\n"
     ]
    },
    {
     "data": {
      "text/plain": [
       "{'inf-norm': 31, '1-norm': 35, 'frob-norm': 50.34}"
      ]
     },
     "execution_count": 76,
     "metadata": {},
     "output_type": "execute_result"
    }
   ],
   "source": [
    "def calculate_norms(matrix):\n",
    "    out = {'inf-norm': None, '1-norm': None, 'frob-norm': 0}\n",
    "    cols = []\n",
    "    \n",
    "    # INF norm is max of sum of row values\n",
    "    out['inf-norm'] = max([sum(i) for i in matrix])\n",
    "    \n",
    "    # ONE norm is max of sum of column values\n",
    "    for i in range(len(matrix[0])):\n",
    "        temp = 0\n",
    "        for j in range(len(matrix)):\n",
    "            temp += matrix[j][i]\n",
    "        cols.append(temp)\n",
    "        \n",
    "        for j in range(len(matrix)):\n",
    "            out['frob-norm'] += matrix[i][j]**2\n",
    "        \n",
    "    out['1-norm'] = max(cols)\n",
    "    out['frob-norm'] = round(np.sqrt(out['frob-norm']),2)\n",
    "    return out\n",
    "\n",
    "matrix = matrix_generator()\n",
    "print(matrix)\n",
    "calculate_norms(matrix)"
   ]
  },
  {
   "cell_type": "code",
   "execution_count": null,
   "id": "1190059e-3dc0-4f03-b3be-12bd013ecd2b",
   "metadata": {},
   "outputs": [],
   "source": [
    "# Gauss Seidel Iteration\n",
    "def gauss_seidel(matrix: list(list), b: row):\n",
    "    \n",
    "    if not isDiagonallyDominant(matrix):\n",
    "        return\n",
    "    \n",
    "    def function_builder(row: list, b: int, level: int):\n",
    "        \n",
    "        if level > len(row):\n",
    "            return\n",
    "        \n",
    "        level_var = row[level]\n",
    "        other_vars = list(set(row) - set(level_var))\n",
    "        def output(params):\n",
    "            for i in row:\n",
    "                \n",
    "            func = b - \n",
    "        \n",
    "    # Defining equations to be solved\n",
    "    # in diagonally dominant form\n",
    "    f1 = lambda w,x,y,z: (17-y+2*z)/20\n",
    "    f2 = lambda w,x,y,z: (-18-3*x+z)/20\n",
    "    f3 = lambda w,x,y,z: (25-2*x+3*y)/20\n",
    "\n",
    "# Initial setup\n",
    "x0 = 0\n",
    "y0 = 0\n",
    "z0 = 0\n",
    "count = 1\n",
    "\n",
    "# Reading tolerable error\n",
    "e = float(input('Enter tolerable error: '))\n",
    "\n",
    "# Implementation of Gauss Seidel Iteration\n",
    "print('\\nCount\\tx\\ty\\tz\\n')\n",
    "\n",
    "condition = True\n",
    "\n",
    "while condition:\n",
    "    x1 = f1(x0,y0,z0)\n",
    "    y1 = f2(x1,y0,z0)\n",
    "    z1 = f3(x1,y1,z0)\n",
    "    print('%d\\t%0.4f\\t%0.4f\\t%0.4f\\n' %(count, x1,y1,z1))\n",
    "    e1 = abs(x0-x1);\n",
    "    e2 = abs(y0-y1);\n",
    "    e3 = abs(z0-z1);\n",
    "    \n",
    "    count += 1\n",
    "    x0 = x1\n",
    "    y0 = y1\n",
    "    z0 = z1\n",
    "    \n",
    "    condition = e1>e and e2>e and e3>e\n",
    "\n",
    "print('\\nSolution: x=%0.3f, y=%0.3f and z = %0.3f\\n'% (x1,y1,z1))"
   ]
  }
 ],
 "metadata": {
  "kernelspec": {
   "display_name": "Python 3 (ipykernel)",
   "language": "python",
   "name": "python3"
  },
  "language_info": {
   "codemirror_mode": {
    "name": "ipython",
    "version": 3
   },
   "file_extension": ".py",
   "mimetype": "text/x-python",
   "name": "python",
   "nbconvert_exporter": "python",
   "pygments_lexer": "ipython3",
   "version": "3.9.7"
  }
 },
 "nbformat": 4,
 "nbformat_minor": 5
}
