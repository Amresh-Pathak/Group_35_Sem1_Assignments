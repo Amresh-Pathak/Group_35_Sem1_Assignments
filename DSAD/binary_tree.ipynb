{
 "cells": [
  {
   "cell_type": "code",
   "execution_count": 1,
   "id": "95961f58-045f-43b8-93c5-a39a29f26562",
   "metadata": {},
   "outputs": [],
   "source": [
    "import queue"
   ]
  },
  {
   "cell_type": "code",
   "execution_count": 2,
   "id": "5be2cfa2-85ca-4afa-a3bc-3358b666d0f9",
   "metadata": {},
   "outputs": [],
   "source": [
    "class EmpNode:\n",
    "    def __init__ (self, empId):\n",
    "        self.empId = empId\n",
    "        self.attctr = 1\n",
    "        self.left = None\n",
    "        self.right = None"
   ]
  },
  {
   "cell_type": "code",
   "execution_count": 4,
   "id": "5e63ef93-6a4a-4e37-a49d-355b304bc4e3",
   "metadata": {},
   "outputs": [],
   "source": [
    "def levelOrderTraversal(rootNode: EmpNode):\n",
    "    count = 0\n",
    "    if not rootNode:\n",
    "        return\n",
    "    tempQ = queue.Queue()\n",
    "    tempQ.put(rootNode)\n",
    "    while not tempQ.empty():\n",
    "        root = tempQ.get()\n",
    "        count += 1\n",
    "        print(root.empId, \" - \", root.attctr)\n",
    "        if root.left:\n",
    "            tempQ.put(root.left)\n",
    "        if root.right:\n",
    "            tempQ.put(root.right)\n",
    "    return count"
   ]
  },
  {
   "cell_type": "code",
   "execution_count": 5,
   "id": "45c18b58-9517-44ce-bb71-a084a59e97a8",
   "metadata": {},
   "outputs": [],
   "source": [
    "def increase_count(rootNode: EmpNode, value: str):\n",
    "    if not rootNode:\n",
    "        return\n",
    "    tempQ = queue.Queue()\n",
    "    tempQ.put(rootNode)\n",
    "    while not tempQ.empty():\n",
    "        root = tempQ.get()\n",
    "        if root.empId == value:\n",
    "            root.attctr += 1\n",
    "            return True\n",
    "        if root.left:\n",
    "            tempQ.put(root.left)\n",
    "        if root.right:\n",
    "            tempQ.put(root.right)\n",
    "    return False"
   ]
  },
  {
   "cell_type": "code",
   "execution_count": 6,
   "id": "da550d3f-2d95-4abc-a90e-5cdd2098060b",
   "metadata": {},
   "outputs": [],
   "source": [
    "def search(rootNode: EmpNode, value: str):\n",
    "    if not rootNode:\n",
    "        return\n",
    "    tempQ = queue.Queue()\n",
    "    tempQ.put(rootNode)\n",
    "    while not tempQ.empty():\n",
    "        root = tempQ.get()\n",
    "        if root.empId == value:\n",
    "            return root\n",
    "        if root.left:\n",
    "            tempQ.put(root.left)\n",
    "        if root.right:\n",
    "            tempQ.put(root.right)\n",
    "    return None"
   ]
  },
  {
   "cell_type": "code",
   "execution_count": 7,
   "id": "250cbfce-c43e-42f3-a3ef-ce13af0bac9c",
   "metadata": {},
   "outputs": [],
   "source": [
    "def insert(rootNode, value):\n",
    "    node = EmpNode(value)\n",
    "    if not rootNode:\n",
    "        rootNode = node\n",
    "        return\n",
    "    tempQ = queue.Queue()\n",
    "    tempQ.put(rootNode)\n",
    "    while not tempQ.empty():\n",
    "        root = tempQ.get()\n",
    "        if root.left:\n",
    "            tempQ.put(root.left)\n",
    "        else:\n",
    "            root.left = node\n",
    "            return\n",
    "        if root.right:\n",
    "            tempQ.put(root.right)\n",
    "        else:\n",
    "            root.right = node\n",
    "            return"
   ]
  },
  {
   "cell_type": "code",
   "execution_count": 8,
   "id": "24798d61-9d6a-4ee7-a86c-b0703a67d23e",
   "metadata": {},
   "outputs": [],
   "source": [
    "def inFreezer(rootNode: EmpNode):\n",
    "    count = 0\n",
    "    if not rootNode:\n",
    "        return\n",
    "    tempQ = queue.Queue()\n",
    "    tempQ.put(rootNode)\n",
    "    while not tempQ.empty():\n",
    "        root = tempQ.get()\n",
    "        if root.attctr%2 != 0:\n",
    "            count += 1\n",
    "        if root.left:\n",
    "            tempQ.put(root.left)\n",
    "        if root.right:\n",
    "            tempQ.put(root.right)\n",
    "    return count"
   ]
  },
  {
   "cell_type": "code",
   "execution_count": 19,
   "id": "2e9bce44-469b-4319-8927-99c9ac869740",
   "metadata": {},
   "outputs": [],
   "source": [
    "def freq_visit(rootNode: EmpNode, freq: int):\n",
    "    nodes = []\n",
    "    if not rootNode:\n",
    "        return\n",
    "    tempQ = queue.Queue()\n",
    "    tempQ.put(rootNode)\n",
    "    while not tempQ.empty():\n",
    "        root = tempQ.get()\n",
    "        if root.attctr >= freq:\n",
    "            nodes.append(root)\n",
    "        if root.left:\n",
    "            tempQ.put(root.left)\n",
    "        if root.right:\n",
    "            tempQ.put(root.right)\n",
    "    return nodes"
   ]
  },
  {
   "cell_type": "code",
   "execution_count": 28,
   "id": "a92ee3af-a5d3-42be-9c62-f5e667421925",
   "metadata": {},
   "outputs": [],
   "source": [
    "def _range(rootNode: EmpNode, low: int, high: int):\n",
    "    nodes = []\n",
    "    if not rootNode:\n",
    "        return\n",
    "    tempQ = queue.Queue()\n",
    "    tempQ.put(rootNode)\n",
    "    while not tempQ.empty():\n",
    "        root = tempQ.get()\n",
    "        if ((root.empId >= low) and (root.empId < high)):\n",
    "            nodes.append(root)\n",
    "        if root.left:\n",
    "            tempQ.put(root.left)\n",
    "        if root.right:\n",
    "            tempQ.put(root.right)\n",
    "    return nodes"
   ]
  },
  {
   "cell_type": "code",
   "execution_count": 64,
   "id": "679d195f-9209-4f2e-93ac-6c9c2823d225",
   "metadata": {},
   "outputs": [
    {
     "name": "stdout",
     "output_type": "stream",
     "text": [
      "5  -  1\n",
      "22  -  2\n",
      "41  -  3\n",
      "121  -  2\n"
     ]
    }
   ],
   "source": [
    "inp = open('./inputPS07.txt', 'r')\n",
    "instructions = str(inp.read()).split('\\n')\n",
    "inp.close()\n",
    "\n",
    "out = open('./outputPS07.txt', 'w')\n",
    "bt = None\n",
    "for instruction in instructions:\n",
    "    pre = instruction.split(':')[0]\n",
    "    if pre not in ['inFreezer', 'checkEmp', 'freqVisit', 'range', '']:\n",
    "        pre = int(pre)\n",
    "        if not bt:\n",
    "            bt = EmpNode(pre)\n",
    "        else:\n",
    "            if not increase_count(bt, pre):\n",
    "                insert(rootNode=bt, value=pre)\n",
    "    else:\n",
    "        if pre == 'inFreezer':\n",
    "            count = levelOrderTraversal(bt)\n",
    "            out.write(f\"Total number of employees recorded today: {count}\\n\")\n",
    "            count = inFreezer(bt)\n",
    "            out.write(f\"Total number of employees inside Freezer: {count}\\n\")\n",
    "        \n",
    "        if pre == 'checkEmp':\n",
    "            emp = int(instruction.split(':')[-1])\n",
    "            node = search(bt, emp)\n",
    "            if not node:\n",
    "                out.write(f\"Employee id {emp} did not swipe today.\\n\")\n",
    "            else:\n",
    "                out.write(f\"Employee id {node.empId} swiped {node.attctr} times today and is currently {'outside' if node.attctr%2==0 else 'inside'} freezer room\\n\")\n",
    "        if pre == 'freqVisit':\n",
    "            num = int(instruction.split(':')[-1])\n",
    "            nodes = freq_visit(bt, num)\n",
    "            if nodes:\n",
    "                out.write(f\"Employees that swiped more than {num} times today are:\\n\")\n",
    "                for node in nodes:\n",
    "                    out.write(f\"{node.empId}, {node.attctr}\\n\") \n",
    "        if pre == 'range':\n",
    "            low = int(instruction.split(':')[-2])\n",
    "            high = int(instruction.split(':')[-1])\n",
    "            nodes = _range(bt, low=low, high=high)\n",
    "            if nodes:\n",
    "                out.write(f\"Range: {low} to {high} Employee swipe:\\n\")\n",
    "                for node in nodes:\n",
    "                    out.write(f\"{node.empId}, {node.attctr}, {'in' if node.attctr%2 != 0 else 'out'}\\n\")\n",
    "                    \n",
    "out.close()"
   ]
  },
  {
   "cell_type": "code",
   "execution_count": null,
   "id": "321b9d77-e11c-4fa7-b002-3f7e57af48a3",
   "metadata": {},
   "outputs": [],
   "source": []
  }
 ],
 "metadata": {
  "kernelspec": {
   "display_name": "Python 3 (ipykernel)",
   "language": "python",
   "name": "python3"
  },
  "language_info": {
   "codemirror_mode": {
    "name": "ipython",
    "version": 3
   },
   "file_extension": ".py",
   "mimetype": "text/x-python",
   "name": "python",
   "nbconvert_exporter": "python",
   "pygments_lexer": "ipython3",
   "version": "3.9.7"
  }
 },
 "nbformat": 4,
 "nbformat_minor": 5
}
